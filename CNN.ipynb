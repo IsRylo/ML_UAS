{
 "cells": [
  {
   "cell_type": "markdown",
   "metadata": {},
   "source": [
    "### Deskripsi Singkat Dataset:\n",
    "\n",
    "tulis deskripsi singkat dataset yang Anda gunakan\n",
    "\n",
    "---\n",
    "\n",
    "### Dataset yang diambil dari repositori:\n",
    "\n",
    "COVID Face Mask Detection Dataset – sumber : https://www.kaggle.com/datasets/prithwirajmitra/covid-face-mask-detection-dataset\n",
    "\n",
    "### Hasil kerja"
   ]
  },
  {
   "cell_type": "code",
   "execution_count": 2,
   "metadata": {},
   "outputs": [],
   "source": [
    "import cv2\n",
    "import math, time, random, datetime\n",
    "import os\n",
    "import numpy as np\n",
    "from matplotlib import pyplot as plt\n",
    "# import splitfolders\n",
    "import tensorflow as tf\n",
    "from tensorflow import keras\n",
    "\n",
    "import warnings\n",
    "warnings.filterwarnings('ignore')"
   ]
  },
  {
   "cell_type": "markdown",
   "metadata": {},
   "source": [
    "Path untuk folder data"
   ]
  },
  {
   "cell_type": "code",
   "execution_count": 88,
   "metadata": {},
   "outputs": [],
   "source": [
    "TRAIN_PATH  = './kaggle/Train' #Mengandung 90% dari dataset\n",
    "TEST_PATH  = './kaggle/Test' # Mengandung 10% dari dataset\n",
    "\n",
    "IMG_SIZE = 224"
   ]
  },
  {
   "cell_type": "markdown",
   "metadata": {},
   "source": [
    "Memberi Label pada gambar serta membagi dataset menjadi training dan validation."
   ]
  },
  {
   "cell_type": "code",
   "execution_count": 18,
   "metadata": {},
   "outputs": [
    {
     "name": "stdout",
     "output_type": "stream",
     "text": [
      "Found 906 files belonging to 2 classes.\n",
      "Using 725 files for training.\n",
      "Found 906 files belonging to 2 classes.\n",
      "Using 181 files for validation.\n"
     ]
    }
   ],
   "source": [
    "train_ds = tf.keras.utils.image_dataset_from_directory(\n",
    "  TRAIN_PATH,\n",
    "  validation_split=0.2,\n",
    "  subset=\"training\",\n",
    "  seed=123,\n",
    "  image_size=(IMG_SIZE, IMG_SIZE),\n",
    "  batch_size=32\n",
    ")\n",
    "\n",
    "val_ds = tf.keras.utils.image_dataset_from_directory(\n",
    "  TRAIN_PATH,\n",
    "  validation_split=0.2,\n",
    "  subset=\"validation\",\n",
    "  seed=123,\n",
    "  image_size=(IMG_SIZE, IMG_SIZE),\n",
    "  batch_size=32\n",
    ")"
   ]
  },
  {
   "cell_type": "code",
   "execution_count": 72,
   "metadata": {},
   "outputs": [
    {
     "name": "stdout",
     "output_type": "stream",
     "text": [
      "(32, 224, 224, 3)\n",
      "(32, 224, 224, 3)\n",
      "(32, 224, 224, 3)\n",
      "(32, 224, 224, 3)\n",
      "(32, 224, 224, 3)\n",
      "(32, 224, 224, 3)\n",
      "(32, 224, 224, 3)\n",
      "(32, 224, 224, 3)\n",
      "(32, 224, 224, 3)\n",
      "(32, 224, 224, 3)\n",
      "(32, 224, 224, 3)\n",
      "(32, 224, 224, 3)\n",
      "(32, 224, 224, 3)\n",
      "(32, 224, 224, 3)\n",
      "(32, 224, 224, 3)\n",
      "(32, 224, 224, 3)\n",
      "(32, 224, 224, 3)\n",
      "(32, 224, 224, 3)\n",
      "(32, 224, 224, 3)\n",
      "(32, 224, 224, 3)\n",
      "(32, 224, 224, 3)\n",
      "(32, 224, 224, 3)\n",
      "(21, 224, 224, 3)\n"
     ]
    }
   ],
   "source": [
    "for image_batch, labels_batch in train_ds:\n",
    "    print(image_batch.shape)"
   ]
  },
  {
   "cell_type": "markdown",
   "metadata": {},
   "source": [
    "Membuat Model menggunakan MobileNetV2 sebagai Base model."
   ]
  },
  {
   "cell_type": "code",
   "execution_count": 53,
   "metadata": {},
   "outputs": [
    {
     "name": "stdout",
     "output_type": "stream",
     "text": [
      "Downloading data from https://storage.googleapis.com/tensorflow/keras-applications/mobilenet_v2/mobilenet_v2_weights_tf_dim_ordering_tf_kernels_1.0_224_no_top.h5\n",
      "9406464/9406464 [==============================] - 8s 1us/step\n"
     ]
    }
   ],
   "source": [
    "IMG_SHAPE = (IMG_SIZE, IMG_SIZE, 3)\n",
    "\n",
    "# Create the base model from the pre-trained model MobileNet V2\n",
    "base_model = tf.keras.applications.MobileNetV2(input_shape=IMG_SHAPE,\n",
    "                                               include_top=False, # Include false agar dapat menggantikan top layer dari model dengan layer khusus kita nanti\n",
    "                                               weights='imagenet')"
   ]
  },
  {
   "cell_type": "markdown",
   "metadata": {},
   "source": [
    "Jika telah inisialisasi model, maka memasukin training model.\n",
    "\n",
    "Sebelum model dilatih, base_model trainable dimatikan dulu. Kita ingin mematikan layer-layer bawah dari model agar tidak menggantika bobot yang membuatnya mengenal wajah.\n",
    "\n",
    "Layer convolution pada lapisan pertama base_model akan berfungsi sebagai feature extractor."
   ]
  },
  {
   "cell_type": "code",
   "execution_count": 55,
   "metadata": {},
   "outputs": [],
   "source": [
    "base_model.trainable = False"
   ]
  },
  {
   "cell_type": "markdown",
   "metadata": {},
   "source": [
    "Kita akan menggunakan Global Average Pooling 2D layer untuk mengubah vector yang didapati dari base_model menjadi 1280 vector.\n",
    "\n",
    "Setelah mendapatkan vector tersebut membuat klasifikasi dilakukan menggunakan Dense Layer."
   ]
  },
  {
   "cell_type": "code",
   "execution_count": 64,
   "metadata": {},
   "outputs": [],
   "source": [
    "global_average_layer = tf.keras.layers.GlobalAveragePooling2D()\n",
    "prediction_layer = tf.keras.layers.Dense(1)\n",
    "stacked_layers = [global_average_layer, prediction_layer]"
   ]
  },
  {
   "cell_type": "markdown",
   "metadata": {},
   "source": [
    "Layer yang terbuat kemudian akan ditaruh diatas base model."
   ]
  },
  {
   "cell_type": "code",
   "execution_count": 65,
   "metadata": {},
   "outputs": [],
   "source": [
    "model = tf.keras.Sequential([base_model] + stacked_layers)"
   ]
  },
  {
   "cell_type": "markdown",
   "metadata": {},
   "source": [
    "Menetapkan base_learning_rate dan membuat membuat model."
   ]
  },
  {
   "cell_type": "code",
   "execution_count": 66,
   "metadata": {},
   "outputs": [],
   "source": [
    "base_learning_rate = 0.0001\n",
    "model.compile(optimizer=tf.keras.optimizers.RMSprop(learning_rate=base_learning_rate),\n",
    "              loss=tf.keras.losses.BinaryCrossentropy(from_logits=True),\n",
    "              metrics=['accuracy'])\n",
    "            "
   ]
  },
  {
   "cell_type": "markdown",
   "metadata": {},
   "source": [
    "### Melatih dan membuat evaluasi\n",
    "Jika tanpa training hasil yang diberikan adalah:"
   ]
  },
  {
   "cell_type": "code",
   "execution_count": 78,
   "metadata": {},
   "outputs": [
    {
     "name": "stdout",
     "output_type": "stream",
     "text": [
      "6/6 [==============================] - 3s 437ms/step - loss: 0.6879 - accuracy: 0.5635\n"
     ]
    }
   ],
   "source": [
    "validation_steps = 6\n",
    "initial_epochs = 100\n",
    "\n",
    "loss0,accuracy0 = model.evaluate(val_ds, steps = validation_steps)"
   ]
  },
  {
   "cell_type": "markdown",
   "metadata": {},
   "source": [
    "Dapa dilihat, model hanya 0.5635 akurat dalam mendeteksi wajah bermasker. Hal ini tidak bagus karena, jika model menebak maka hasilnya 0.5. Jadi meskipun memiliki bobot dari ImageNet dan architecure MobileNetV2 (transfer learning), model hanya  bisa menentukan wajah bermasker sedikit lebih baik dari penebakan."
   ]
  },
  {
   "cell_type": "markdown",
   "metadata": {},
   "source": [
    "Melatih model (layer teratas)"
   ]
  },
  {
   "cell_type": "code",
   "execution_count": 79,
   "metadata": {},
   "outputs": [
    {
     "name": "stdout",
     "output_type": "stream",
     "text": [
      "Epoch 1/100\n",
      "23/23 [==============================] - 17s 617ms/step - loss: 0.6736 - accuracy: 0.5531 - val_loss: 0.6381 - val_accuracy: 0.6243\n",
      "Epoch 2/100\n",
      "23/23 [==============================] - 14s 593ms/step - loss: 0.6392 - accuracy: 0.5848 - val_loss: 0.6117 - val_accuracy: 0.6575\n",
      "Epoch 3/100\n",
      "23/23 [==============================] - 14s 580ms/step - loss: 0.6139 - accuracy: 0.6152 - val_loss: 0.5949 - val_accuracy: 0.6961\n",
      "Epoch 4/100\n",
      "23/23 [==============================] - 14s 587ms/step - loss: 0.5921 - accuracy: 0.6469 - val_loss: 0.5760 - val_accuracy: 0.7182\n",
      "Epoch 5/100\n",
      "23/23 [==============================] - 14s 590ms/step - loss: 0.5710 - accuracy: 0.6552 - val_loss: 0.5639 - val_accuracy: 0.7127\n",
      "Epoch 6/100\n",
      "23/23 [==============================] - 14s 607ms/step - loss: 0.5538 - accuracy: 0.6897 - val_loss: 0.5473 - val_accuracy: 0.7238\n",
      "Epoch 7/100\n",
      "23/23 [==============================] - 14s 596ms/step - loss: 0.5361 - accuracy: 0.7048 - val_loss: 0.5334 - val_accuracy: 0.7459\n",
      "Epoch 8/100\n",
      "23/23 [==============================] - 14s 599ms/step - loss: 0.5196 - accuracy: 0.7324 - val_loss: 0.5205 - val_accuracy: 0.7569\n",
      "Epoch 9/100\n",
      "23/23 [==============================] - 15s 629ms/step - loss: 0.5044 - accuracy: 0.7407 - val_loss: 0.5067 - val_accuracy: 0.7459\n",
      "Epoch 10/100\n",
      "23/23 [==============================] - 15s 627ms/step - loss: 0.4894 - accuracy: 0.7379 - val_loss: 0.4972 - val_accuracy: 0.7956\n",
      "Epoch 11/100\n",
      "23/23 [==============================] - 14s 589ms/step - loss: 0.4760 - accuracy: 0.7600 - val_loss: 0.4895 - val_accuracy: 0.8122\n",
      "Epoch 12/100\n",
      "23/23 [==============================] - 14s 605ms/step - loss: 0.4646 - accuracy: 0.7724 - val_loss: 0.4826 - val_accuracy: 0.8232\n",
      "Epoch 13/100\n",
      "23/23 [==============================] - 14s 592ms/step - loss: 0.4541 - accuracy: 0.7807 - val_loss: 0.4732 - val_accuracy: 0.8232\n",
      "Epoch 14/100\n",
      "23/23 [==============================] - 14s 589ms/step - loss: 0.4441 - accuracy: 0.7876 - val_loss: 0.4639 - val_accuracy: 0.8287\n",
      "Epoch 15/100\n",
      "23/23 [==============================] - 15s 621ms/step - loss: 0.4355 - accuracy: 0.8028 - val_loss: 0.4559 - val_accuracy: 0.8232\n",
      "Epoch 16/100\n",
      "23/23 [==============================] - 14s 606ms/step - loss: 0.4269 - accuracy: 0.8055 - val_loss: 0.4504 - val_accuracy: 0.8287\n",
      "Epoch 17/100\n",
      "23/23 [==============================] - 14s 608ms/step - loss: 0.4193 - accuracy: 0.8110 - val_loss: 0.4464 - val_accuracy: 0.8343\n",
      "Epoch 18/100\n",
      "23/23 [==============================] - 14s 609ms/step - loss: 0.4126 - accuracy: 0.8166 - val_loss: 0.4392 - val_accuracy: 0.8287\n",
      "Epoch 19/100\n",
      "23/23 [==============================] - 14s 605ms/step - loss: 0.4058 - accuracy: 0.8193 - val_loss: 0.4351 - val_accuracy: 0.8398\n",
      "Epoch 20/100\n",
      "23/23 [==============================] - 14s 603ms/step - loss: 0.3991 - accuracy: 0.8248 - val_loss: 0.4305 - val_accuracy: 0.8343\n",
      "Epoch 21/100\n",
      "23/23 [==============================] - 14s 594ms/step - loss: 0.3928 - accuracy: 0.8276 - val_loss: 0.4259 - val_accuracy: 0.8398\n",
      "Epoch 22/100\n",
      "23/23 [==============================] - 14s 621ms/step - loss: 0.3871 - accuracy: 0.8317 - val_loss: 0.4217 - val_accuracy: 0.8398\n",
      "Epoch 23/100\n",
      "23/23 [==============================] - 14s 609ms/step - loss: 0.3825 - accuracy: 0.8372 - val_loss: 0.4169 - val_accuracy: 0.8398\n",
      "Epoch 24/100\n",
      "23/23 [==============================] - 14s 604ms/step - loss: 0.3775 - accuracy: 0.8428 - val_loss: 0.4133 - val_accuracy: 0.8398\n",
      "Epoch 25/100\n",
      "23/23 [==============================] - 15s 630ms/step - loss: 0.3727 - accuracy: 0.8386 - val_loss: 0.4118 - val_accuracy: 0.8343\n",
      "Epoch 26/100\n",
      "23/23 [==============================] - 15s 619ms/step - loss: 0.3682 - accuracy: 0.8428 - val_loss: 0.4087 - val_accuracy: 0.8343\n",
      "Epoch 27/100\n",
      "23/23 [==============================] - 14s 617ms/step - loss: 0.3636 - accuracy: 0.8455 - val_loss: 0.4054 - val_accuracy: 0.8343\n",
      "Epoch 28/100\n",
      "23/23 [==============================] - 14s 611ms/step - loss: 0.3597 - accuracy: 0.8469 - val_loss: 0.3982 - val_accuracy: 0.8398\n",
      "Epoch 29/100\n",
      "23/23 [==============================] - 14s 609ms/step - loss: 0.3542 - accuracy: 0.8497 - val_loss: 0.3991 - val_accuracy: 0.8343\n",
      "Epoch 30/100\n",
      "23/23 [==============================] - 14s 593ms/step - loss: 0.3515 - accuracy: 0.8552 - val_loss: 0.3932 - val_accuracy: 0.8398\n",
      "Epoch 31/100\n",
      "23/23 [==============================] - 15s 644ms/step - loss: 0.3470 - accuracy: 0.8579 - val_loss: 0.3905 - val_accuracy: 0.8398\n",
      "Epoch 32/100\n",
      "23/23 [==============================] - 15s 624ms/step - loss: 0.3439 - accuracy: 0.8538 - val_loss: 0.3887 - val_accuracy: 0.8398\n",
      "Epoch 33/100\n",
      "23/23 [==============================] - 14s 585ms/step - loss: 0.3406 - accuracy: 0.8607 - val_loss: 0.3853 - val_accuracy: 0.8398\n",
      "Epoch 34/100\n",
      "23/23 [==============================] - 14s 580ms/step - loss: 0.3364 - accuracy: 0.8593 - val_loss: 0.3856 - val_accuracy: 0.8343\n",
      "Epoch 35/100\n",
      "23/23 [==============================] - 14s 590ms/step - loss: 0.3340 - accuracy: 0.8634 - val_loss: 0.3795 - val_accuracy: 0.8398\n",
      "Epoch 36/100\n",
      "23/23 [==============================] - 14s 584ms/step - loss: 0.3304 - accuracy: 0.8621 - val_loss: 0.3791 - val_accuracy: 0.8398\n",
      "Epoch 37/100\n",
      "23/23 [==============================] - 13s 574ms/step - loss: 0.3276 - accuracy: 0.8648 - val_loss: 0.3792 - val_accuracy: 0.8287\n",
      "Epoch 38/100\n",
      "23/23 [==============================] - 14s 621ms/step - loss: 0.3249 - accuracy: 0.8662 - val_loss: 0.3783 - val_accuracy: 0.8287\n",
      "Epoch 39/100\n",
      "23/23 [==============================] - 14s 595ms/step - loss: 0.3226 - accuracy: 0.8690 - val_loss: 0.3738 - val_accuracy: 0.8453\n",
      "Epoch 40/100\n",
      "23/23 [==============================] - 15s 626ms/step - loss: 0.3196 - accuracy: 0.8690 - val_loss: 0.3713 - val_accuracy: 0.8453\n",
      "Epoch 41/100\n",
      "23/23 [==============================] - 15s 632ms/step - loss: 0.3167 - accuracy: 0.8717 - val_loss: 0.3708 - val_accuracy: 0.8343\n",
      "Epoch 42/100\n",
      "23/23 [==============================] - 15s 643ms/step - loss: 0.3138 - accuracy: 0.8759 - val_loss: 0.3645 - val_accuracy: 0.8398\n",
      "Epoch 43/100\n",
      "23/23 [==============================] - 14s 606ms/step - loss: 0.3122 - accuracy: 0.8772 - val_loss: 0.3655 - val_accuracy: 0.8453\n",
      "Epoch 44/100\n",
      "23/23 [==============================] - 14s 590ms/step - loss: 0.3090 - accuracy: 0.8745 - val_loss: 0.3671 - val_accuracy: 0.8343\n",
      "Epoch 45/100\n",
      "23/23 [==============================] - 14s 606ms/step - loss: 0.3075 - accuracy: 0.8786 - val_loss: 0.3645 - val_accuracy: 0.8343\n",
      "Epoch 46/100\n",
      "23/23 [==============================] - 14s 593ms/step - loss: 0.3051 - accuracy: 0.8772 - val_loss: 0.3609 - val_accuracy: 0.8398\n",
      "Epoch 47/100\n",
      "23/23 [==============================] - 14s 597ms/step - loss: 0.3031 - accuracy: 0.8800 - val_loss: 0.3591 - val_accuracy: 0.8398\n",
      "Epoch 48/100\n",
      "23/23 [==============================] - 14s 598ms/step - loss: 0.3007 - accuracy: 0.8800 - val_loss: 0.3589 - val_accuracy: 0.8398\n",
      "Epoch 49/100\n",
      "23/23 [==============================] - 14s 607ms/step - loss: 0.2989 - accuracy: 0.8800 - val_loss: 0.3561 - val_accuracy: 0.8398\n",
      "Epoch 50/100\n",
      "23/23 [==============================] - 14s 591ms/step - loss: 0.2967 - accuracy: 0.8814 - val_loss: 0.3547 - val_accuracy: 0.8398\n",
      "Epoch 51/100\n",
      "23/23 [==============================] - 14s 589ms/step - loss: 0.2945 - accuracy: 0.8828 - val_loss: 0.3530 - val_accuracy: 0.8398\n",
      "Epoch 52/100\n",
      "23/23 [==============================] - 14s 582ms/step - loss: 0.2928 - accuracy: 0.8828 - val_loss: 0.3533 - val_accuracy: 0.8453\n",
      "Epoch 53/100\n",
      "23/23 [==============================] - 14s 603ms/step - loss: 0.2905 - accuracy: 0.8855 - val_loss: 0.3522 - val_accuracy: 0.8453\n",
      "Epoch 54/100\n",
      "23/23 [==============================] - 14s 593ms/step - loss: 0.2884 - accuracy: 0.8869 - val_loss: 0.3530 - val_accuracy: 0.8453\n",
      "Epoch 55/100\n",
      "23/23 [==============================] - 14s 595ms/step - loss: 0.2872 - accuracy: 0.8841 - val_loss: 0.3492 - val_accuracy: 0.8453\n",
      "Epoch 56/100\n",
      "23/23 [==============================] - 14s 597ms/step - loss: 0.2849 - accuracy: 0.8869 - val_loss: 0.3497 - val_accuracy: 0.8508\n",
      "Epoch 57/100\n",
      "23/23 [==============================] - 14s 605ms/step - loss: 0.2833 - accuracy: 0.8883 - val_loss: 0.3465 - val_accuracy: 0.8453\n",
      "Epoch 58/100\n",
      "23/23 [==============================] - 15s 627ms/step - loss: 0.2819 - accuracy: 0.8855 - val_loss: 0.3468 - val_accuracy: 0.8508\n",
      "Epoch 59/100\n",
      "23/23 [==============================] - 14s 595ms/step - loss: 0.2797 - accuracy: 0.8883 - val_loss: 0.3490 - val_accuracy: 0.8508\n",
      "Epoch 60/100\n",
      "23/23 [==============================] - 15s 625ms/step - loss: 0.2785 - accuracy: 0.8910 - val_loss: 0.3431 - val_accuracy: 0.8453\n",
      "Epoch 61/100\n",
      "23/23 [==============================] - 15s 634ms/step - loss: 0.2761 - accuracy: 0.8897 - val_loss: 0.3468 - val_accuracy: 0.8508\n",
      "Epoch 62/100\n",
      "23/23 [==============================] - 15s 632ms/step - loss: 0.2755 - accuracy: 0.8883 - val_loss: 0.3445 - val_accuracy: 0.8564\n",
      "Epoch 63/100\n",
      "23/23 [==============================] - 15s 637ms/step - loss: 0.2744 - accuracy: 0.8897 - val_loss: 0.3423 - val_accuracy: 0.8508\n",
      "Epoch 64/100\n",
      "23/23 [==============================] - 15s 623ms/step - loss: 0.2722 - accuracy: 0.8910 - val_loss: 0.3426 - val_accuracy: 0.8564\n",
      "Epoch 65/100\n",
      "23/23 [==============================] - 14s 596ms/step - loss: 0.2710 - accuracy: 0.8883 - val_loss: 0.3420 - val_accuracy: 0.8564\n",
      "Epoch 66/100\n",
      "23/23 [==============================] - 14s 594ms/step - loss: 0.2693 - accuracy: 0.8938 - val_loss: 0.3413 - val_accuracy: 0.8564\n",
      "Epoch 67/100\n",
      "23/23 [==============================] - 14s 602ms/step - loss: 0.2684 - accuracy: 0.8910 - val_loss: 0.3382 - val_accuracy: 0.8508\n",
      "Epoch 68/100\n",
      "23/23 [==============================] - 15s 635ms/step - loss: 0.2665 - accuracy: 0.8938 - val_loss: 0.3356 - val_accuracy: 0.8453\n",
      "Epoch 69/100\n",
      "23/23 [==============================] - 15s 634ms/step - loss: 0.2649 - accuracy: 0.8855 - val_loss: 0.3360 - val_accuracy: 0.8508\n",
      "Epoch 70/100\n",
      "23/23 [==============================] - 15s 632ms/step - loss: 0.2638 - accuracy: 0.8938 - val_loss: 0.3373 - val_accuracy: 0.8564\n",
      "Epoch 71/100\n",
      "23/23 [==============================] - 14s 611ms/step - loss: 0.2625 - accuracy: 0.8993 - val_loss: 0.3358 - val_accuracy: 0.8508\n",
      "Epoch 72/100\n",
      "23/23 [==============================] - 14s 597ms/step - loss: 0.2609 - accuracy: 0.8952 - val_loss: 0.3377 - val_accuracy: 0.8564\n",
      "Epoch 73/100\n",
      "23/23 [==============================] - 14s 603ms/step - loss: 0.2599 - accuracy: 0.8952 - val_loss: 0.3368 - val_accuracy: 0.8564\n",
      "Epoch 74/100\n",
      "23/23 [==============================] - 14s 607ms/step - loss: 0.2587 - accuracy: 0.8979 - val_loss: 0.3346 - val_accuracy: 0.8508\n",
      "Epoch 75/100\n",
      "23/23 [==============================] - 14s 595ms/step - loss: 0.2575 - accuracy: 0.8952 - val_loss: 0.3338 - val_accuracy: 0.8508\n",
      "Epoch 76/100\n",
      "23/23 [==============================] - 14s 609ms/step - loss: 0.2557 - accuracy: 0.8966 - val_loss: 0.3350 - val_accuracy: 0.8564\n",
      "Epoch 77/100\n",
      "23/23 [==============================] - 14s 604ms/step - loss: 0.2548 - accuracy: 0.8952 - val_loss: 0.3349 - val_accuracy: 0.8564\n",
      "Epoch 78/100\n",
      "23/23 [==============================] - 14s 606ms/step - loss: 0.2537 - accuracy: 0.8952 - val_loss: 0.3311 - val_accuracy: 0.8508\n",
      "Epoch 79/100\n",
      "23/23 [==============================] - 15s 664ms/step - loss: 0.2519 - accuracy: 0.8979 - val_loss: 0.3322 - val_accuracy: 0.8564\n",
      "Epoch 80/100\n",
      "23/23 [==============================] - 16s 662ms/step - loss: 0.2515 - accuracy: 0.8993 - val_loss: 0.3299 - val_accuracy: 0.8508\n",
      "Epoch 81/100\n",
      "23/23 [==============================] - 14s 596ms/step - loss: 0.2496 - accuracy: 0.8979 - val_loss: 0.3307 - val_accuracy: 0.8564\n",
      "Epoch 82/100\n",
      "23/23 [==============================] - 14s 593ms/step - loss: 0.2486 - accuracy: 0.8952 - val_loss: 0.3300 - val_accuracy: 0.8564\n",
      "Epoch 83/100\n",
      "23/23 [==============================] - 14s 598ms/step - loss: 0.2479 - accuracy: 0.9048 - val_loss: 0.3284 - val_accuracy: 0.8508\n",
      "Epoch 84/100\n",
      "23/23 [==============================] - 14s 590ms/step - loss: 0.2466 - accuracy: 0.8993 - val_loss: 0.3289 - val_accuracy: 0.8564\n",
      "Epoch 85/100\n",
      "23/23 [==============================] - 14s 594ms/step - loss: 0.2453 - accuracy: 0.9007 - val_loss: 0.3274 - val_accuracy: 0.8508\n",
      "Epoch 86/100\n",
      "23/23 [==============================] - 16s 626ms/step - loss: 0.2442 - accuracy: 0.9021 - val_loss: 0.3282 - val_accuracy: 0.8564\n",
      "Epoch 87/100\n",
      "23/23 [==============================] - 14s 599ms/step - loss: 0.2433 - accuracy: 0.9021 - val_loss: 0.3263 - val_accuracy: 0.8564\n",
      "Epoch 88/100\n",
      "23/23 [==============================] - 14s 594ms/step - loss: 0.2420 - accuracy: 0.9007 - val_loss: 0.3278 - val_accuracy: 0.8564\n",
      "Epoch 89/100\n",
      "23/23 [==============================] - 14s 607ms/step - loss: 0.2409 - accuracy: 0.8993 - val_loss: 0.3262 - val_accuracy: 0.8564\n",
      "Epoch 90/100\n",
      "23/23 [==============================] - 14s 598ms/step - loss: 0.2395 - accuracy: 0.9034 - val_loss: 0.3270 - val_accuracy: 0.8564\n",
      "Epoch 91/100\n",
      "23/23 [==============================] - 14s 585ms/step - loss: 0.2387 - accuracy: 0.9062 - val_loss: 0.3228 - val_accuracy: 0.8508\n",
      "Epoch 92/100\n",
      "23/23 [==============================] - 14s 590ms/step - loss: 0.2378 - accuracy: 0.9048 - val_loss: 0.3225 - val_accuracy: 0.8508\n",
      "Epoch 93/100\n",
      "23/23 [==============================] - 14s 590ms/step - loss: 0.2363 - accuracy: 0.9034 - val_loss: 0.3241 - val_accuracy: 0.8564\n",
      "Epoch 94/100\n",
      "23/23 [==============================] - 14s 597ms/step - loss: 0.2353 - accuracy: 0.9034 - val_loss: 0.3260 - val_accuracy: 0.8564\n",
      "Epoch 95/100\n",
      "23/23 [==============================] - 14s 606ms/step - loss: 0.2351 - accuracy: 0.9062 - val_loss: 0.3235 - val_accuracy: 0.8564\n",
      "Epoch 96/100\n",
      "23/23 [==============================] - 14s 589ms/step - loss: 0.2339 - accuracy: 0.8979 - val_loss: 0.3236 - val_accuracy: 0.8564\n",
      "Epoch 97/100\n",
      "23/23 [==============================] - 14s 598ms/step - loss: 0.2329 - accuracy: 0.9048 - val_loss: 0.3221 - val_accuracy: 0.8564\n",
      "Epoch 98/100\n",
      "23/23 [==============================] - 14s 594ms/step - loss: 0.2322 - accuracy: 0.9062 - val_loss: 0.3204 - val_accuracy: 0.8564\n",
      "Epoch 99/100\n",
      "23/23 [==============================] - 14s 602ms/step - loss: 0.2311 - accuracy: 0.9062 - val_loss: 0.3198 - val_accuracy: 0.8564\n",
      "Epoch 100/100\n",
      "23/23 [==============================] - 14s 596ms/step - loss: 0.2299 - accuracy: 0.9076 - val_loss: 0.3204 - val_accuracy: 0.8564\n"
     ]
    }
   ],
   "source": [
    "history = model.fit(train_ds,\n",
    "                    epochs=initial_epochs,\n",
    "                    validation_data=val_ds)"
   ]
  },
  {
   "cell_type": "markdown",
   "metadata": {},
   "source": [
    "History dari Training dan Fitting"
   ]
  },
  {
   "cell_type": "code",
   "execution_count": 80,
   "metadata": {},
   "outputs": [
    {
     "name": "stdout",
     "output_type": "stream",
     "text": [
      "dict_keys(['loss', 'accuracy', 'val_loss', 'val_accuracy'])\n"
     ]
    },
    {
     "data": {
      "image/png": "[encoded data removed]",
      "text/plain": [
       "<Figure size 640x480 with 1 Axes>"
      ]
     },
     "metadata": {},
     "output_type": "display_data"
    },
    {
     "data": {
      "image/png": "[encoded data removed]",
      "text/plain": [
       "<Figure size 640x480 with 1 Axes>"
      ]
     },
     "metadata": {},
     "output_type": "display_data"
    }
   ],
   "source": [
    "# list all data in history\n",
    "print(history.history.keys())\n",
    "# summarize history for accuracy\n",
    "plt.plot(history.history['accuracy'])\n",
    "plt.plot(history.history['val_accuracy'])\n",
    "plt.title('model accuracy')\n",
    "plt.ylabel('accuracy')\n",
    "plt.xlabel('epoch')\n",
    "plt.legend(['train', 'test'], loc='upper left')\n",
    "plt.show()\n",
    "# summarize history for loss\n",
    "plt.plot(history.history['loss'])\n",
    "plt.plot(history.history['val_loss'])\n",
    "plt.title('model loss')\n",
    "plt.ylabel('loss')\n",
    "plt.xlabel('epoch')\n",
    "plt.legend(['train', 'test'], loc='upper left')\n",
    "plt.show()"
   ]
  },
  {
   "cell_type": "code",
   "execution_count": 89,
   "metadata": {},
   "outputs": [
    {
     "name": "stdout",
     "output_type": "stream",
     "text": [
      "Found 100 files belonging to 2 classes.\n"
     ]
    }
   ],
   "source": []
  },
  {
   "cell_type": "code",
   "execution_count": 90,
   "metadata": {},
   "outputs": [
    {
     "name": "stdout",
     "output_type": "stream",
     "text": [
      "(32, 224, 224, 3)\n",
      "(32, 224, 224, 3)\n",
      "(32, 224, 224, 3)\n",
      "(4, 224, 224, 3)\n"
     ]
    }
   ],
   "source": [
    "for image_batch, labels_batch in test_ds:\n",
    "    print(image_batch.shape)"
   ]
  },
  {
   "cell_type": "code",
   "execution_count": 93,
   "metadata": {},
   "outputs": [
    {
     "data": {
      "text/plain": [
       "1"
      ]
     },
     "execution_count": 93,
     "metadata": {},
     "output_type": "execute_result"
    }
   ],
   "source": []
  },
  {
   "cell_type": "markdown",
   "metadata": {},
   "source": [
    "Evaluasi dengan Testing"
   ]
  },
  {
   "cell_type": "code",
   "execution_count": 96,
   "metadata": {},
   "outputs": [
    {
     "name": "stdout",
     "output_type": "stream",
     "text": [
      "Found 100 files belonging to 2 classes.\n",
      "4/4 [==============================] - 2s 300ms/step - loss: 0.2540 - accuracy: 0.9400\n"
     ]
    }
   ],
   "source": [
    "test_ds = tf.keras.utils.image_dataset_from_directory(\n",
    "  TEST_PATH,\n",
    "  seed=123,\n",
    "  image_size=(IMG_SIZE, IMG_SIZE),\n",
    "  batch_size=32\n",
    ")\n",
    "testing_steps = 4\n",
    "\n",
    "\n",
    "loss0,accuracy0 = model.evaluate(test_ds, steps = testing_steps)"
   ]
  },
  {
   "cell_type": "code",
   "execution_count": 82,
   "metadata": {},
   "outputs": [
    {
     "name": "stdout",
     "output_type": "stream",
     "text": [
      "Model: \"sequential\"\n",
      "_________________________________________________________________\n",
      " Layer (type)                Output Shape              Param #   \n",
      "=================================================================\n",
      " mobilenetv2_1.00_224 (Funct  (None, 7, 7, 1280)       2257984   \n",
      " ional)                                                          \n",
      "                                                                 \n",
      " global_average_pooling2d (G  (None, 1280)             0         \n",
      " lobalAveragePooling2D)                                          \n",
      "                                                                 \n",
      " dense (Dense)               (None, 1)                 1281      \n",
      "                                                                 \n",
      "=================================================================\n",
      "Total params: 2,259,265\n",
      "Trainable params: 1,281\n",
      "Non-trainable params: 2,257,984\n",
      "_________________________________________________________________\n"
     ]
    }
   ],
   "source": [
    "model.summary()"
   ]
  },
  {
   "cell_type": "markdown",
   "metadata": {},
   "source": [
    "Fine-tuning model saat epoch = 24"
   ]
  },
  {
   "cell_type": "code",
   "execution_count": 103,
   "metadata": {},
   "outputs": [
    {
     "name": "stdout",
     "output_type": "stream",
     "text": [
      "Number of layers in the base model:  154\n"
     ]
    }
   ],
   "source": [
    "base_model.trainable = True\n",
    "\n",
    "\n",
    "# Let's take a look to see how many layers are in the base model\n",
    "print(\"Number of layers in the base model: \", len(base_model.layers))\n",
    "\n",
    "# Fine-tune from this layer onwards\n",
    "fine_tune_at = 100\n",
    "\n",
    "# Freeze all the layers before the `fine_tune_at` layer\n",
    "for layer in base_model.layers[:fine_tune_at]:\n",
    "  layer.trainable =  False"
   ]
  },
  {
   "cell_type": "code",
   "execution_count": 104,
   "metadata": {},
   "outputs": [],
   "source": [
    "base_learning_rate = 0.0001\n",
    "model.compile(optimizer=tf.keras.optimizers.RMSprop(learning_rate=base_learning_rate),\n",
    "              loss=tf.keras.losses.BinaryCrossentropy(from_logits=True),\n",
    "              metrics=['accuracy'])"
   ]
  },
  {
   "cell_type": "code",
   "execution_count": 105,
   "metadata": {},
   "outputs": [
    {
     "name": "stdout",
     "output_type": "stream",
     "text": [
      "Model: \"sequential\"\n",
      "_________________________________________________________________\n",
      " Layer (type)                Output Shape              Param #   \n",
      "=================================================================\n",
      " mobilenetv2_1.00_224 (Funct  (None, 7, 7, 1280)       2257984   \n",
      " ional)                                                          \n",
      "                                                                 \n",
      " global_average_pooling2d (G  (None, 1280)             0         \n",
      " lobalAveragePooling2D)                                          \n",
      "                                                                 \n",
      " dense (Dense)               (None, 1)                 1281      \n",
      "                                                                 \n",
      "=================================================================\n",
      "Total params: 2,259,265\n",
      "Trainable params: 1,862,721\n",
      "Non-trainable params: 396,544\n",
      "_________________________________________________________________\n"
     ]
    }
   ],
   "source": [
    "model.summary()"
   ]
  },
  {
   "cell_type": "code",
   "execution_count": 106,
   "metadata": {},
   "outputs": [
    {
     "data": {
      "text/plain": [
       "56"
      ]
     },
     "execution_count": 106,
     "metadata": {},
     "output_type": "execute_result"
    }
   ],
   "source": [
    "len(model.trainable_variables)"
   ]
  },
  {
   "cell_type": "code",
   "execution_count": 107,
   "metadata": {},
   "outputs": [
    {
     "name": "stdout",
     "output_type": "stream",
     "text": [
      "Epoch 25/34\n",
      "23/23 [==============================] - 25s 825ms/step - loss: 0.2408 - accuracy: 0.8993 - val_loss: 1.2682 - val_accuracy: 0.5801\n",
      "Epoch 26/34\n",
      "23/23 [==============================] - 21s 914ms/step - loss: 0.0230 - accuracy: 0.9972 - val_loss: 1.6041 - val_accuracy: 0.5414\n",
      "Epoch 27/34\n",
      "23/23 [==============================] - 20s 877ms/step - loss: 0.0095 - accuracy: 0.9986 - val_loss: 0.9219 - val_accuracy: 0.7182\n",
      "Epoch 28/34\n",
      "23/23 [==============================] - 21s 894ms/step - loss: 0.0057 - accuracy: 1.0000 - val_loss: 1.1277 - val_accuracy: 0.7017\n",
      "Epoch 29/34\n",
      "23/23 [==============================] - 21s 898ms/step - loss: 0.0201 - accuracy: 0.9931 - val_loss: 0.8019 - val_accuracy: 0.7348\n",
      "Epoch 30/34\n",
      "23/23 [==============================] - 22s 925ms/step - loss: 0.0062 - accuracy: 0.9986 - val_loss: 1.2323 - val_accuracy: 0.7072\n",
      "Epoch 31/34\n",
      "23/23 [==============================] - 22s 929ms/step - loss: 0.0013 - accuracy: 1.0000 - val_loss: 1.1113 - val_accuracy: 0.7238\n",
      "Epoch 32/34\n",
      "23/23 [==============================] - 21s 888ms/step - loss: 4.6485e-04 - accuracy: 1.0000 - val_loss: 1.1091 - val_accuracy: 0.7293\n",
      "Epoch 33/34\n",
      "23/23 [==============================] - 21s 926ms/step - loss: 1.7824e-04 - accuracy: 1.0000 - val_loss: 1.3345 - val_accuracy: 0.7017\n",
      "Epoch 34/34\n",
      "23/23 [==============================] - 21s 924ms/step - loss: 6.4966e-04 - accuracy: 1.0000 - val_loss: 2.4413 - val_accuracy: 0.6022\n"
     ]
    }
   ],
   "source": [
    "fine_tune_epochs = 10\n",
    "total_epochs =  initial_epochs + fine_tune_epochs\n",
    "\n",
    "history_fine = model.fit(train_ds, epochs=total_epochs, initial_epoch= initial_epochs, validation_data = val_ds)\n"
   ]
  },
  {
   "cell_type": "code",
   "execution_count": 113,
   "metadata": {},
   "outputs": [
    {
     "name": "stdout",
     "output_type": "stream",
     "text": [
      "dict_keys(['loss', 'accuracy', 'val_loss', 'val_accuracy'])\n"
     ]
    },
    {
     "data": {
      "image/png": "[encoded data removed]",
      "text/plain": [
       "<Figure size 640x480 with 1 Axes>"
      ]
     },
     "metadata": {},
     "output_type": "display_data"
    },
    {
     "data": {
      "image/png": "[encoded data removed]",
      "text/plain": [
       "<Figure size 640x480 with 1 Axes>"
      ]
     },
     "metadata": {},
     "output_type": "display_data"
    }
   ],
   "source": [
    "# list all data in history\n",
    "print(history_fine.history.keys())\n",
    "# summarize history for accuracy\n",
    "plt.plot(history_fine.history['accuracy'])\n",
    "plt.plot(history_fine.history['val_accuracy'])\n",
    "plt.title('model accuracy after fine tuning')\n",
    "plt.ylabel('accuracy')\n",
    "plt.xlabel('epoch')\n",
    "plt.legend(['train', 'test'], loc='upper left')\n",
    "plt.ylim((0, 1.2))\n",
    "plt.show()\n",
    "# summarize history for loss\n",
    "plt.plot(history_fine.history['loss'])\n",
    "plt.plot(history_fine.history['val_loss'])\n",
    "plt.title('model loss')\n",
    "plt.ylabel('loss')\n",
    "plt.xlabel('epoch')\n",
    "plt.legend(['train', 'validation'], loc='upper left')\n",
    "plt.show()"
   ]
  },
  {
   "cell_type": "code",
   "execution_count": 115,
   "metadata": {},
   "outputs": [],
   "source": [
    "for layer in model.layers:\n",
    "    if 'conv' in layer.name:\n",
    "        weights, bias= layer.get_weights()\n",
    "        print(layer.name, filters.shape)\n",
    "        \n",
    "        #normalize filter values between  0 and 1 for visualization\n",
    "        f_min, f_max = weights.min(), weights.max()\n",
    "        filters = (weights - f_min) / (f_max - f_min)  \n",
    "        print(filters.shape[3])\n",
    "        filter_cnt=1\n",
    "        \n",
    "        #plotting all the filters\n",
    "        for i in range(filters.shape[3]):\n",
    "            #get the filters\n",
    "            filt=filters[:,:,:, i]\n",
    "            #plotting each of the channel, color image RGB channels\n",
    "            for j in range(filters.shape[0]):\n",
    "                ax= plt.subplot(filters.shape[3], filters.shape[0], filter_cnt  )\n",
    "                ax.set_xticks([])\n",
    "                ax.set_yticks([])\n",
    "                plt.imshow(filt[:,:, j])\n",
    "                filter_cnt+=1\n",
    "        plt.show()"
   ]
  }
 ],
 "metadata": {
  "kernelspec": {
   "display_name": "Python 3.9.13 ('tf')",
   "language": "python",
   "name": "python3"
  },
  "language_info": {
   "codemirror_mode": {
    "name": "ipython",
    "version": 3
   },
   "file_extension": ".py",
   "mimetype": "text/x-python",
   "name": "python",
   "nbconvert_exporter": "python",
   "pygments_lexer": "ipython3",
   "version": "3.9.13"
  },
  "orig_nbformat": 4,
  "vscode": {
   "interpreter": {
    "hash": "2d974c4b7c9167b3c2df7ef2f40c9ab050914ef25a32a81d1263224e0dc77032"
   }
  }
 },
 "nbformat": 4,
 "nbformat_minor": 2
}
